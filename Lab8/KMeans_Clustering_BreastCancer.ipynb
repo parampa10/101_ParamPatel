{
 "cells": [
  {
   "cell_type": "code",
   "execution_count": 14,
   "id": "65add5aa",
   "metadata": {},
   "outputs": [],
   "source": [
    "import numpy as np \n",
    "import pandas as pd \n",
    "from sklearn import datasets\n",
    "from sklearn.cluster import KMeans\n",
    "import matplotlib.pyplot as plt"
   ]
  },
  {
   "cell_type": "code",
   "execution_count": 15,
   "id": "adab0db3",
   "metadata": {},
   "outputs": [
    {
     "name": "stdout",
     "output_type": "stream",
     "text": [
      "(569, 30)\n",
      "(569,)\n"
     ]
    }
   ],
   "source": [
    "dataset=datasets.load_breast_cancer()\n",
    "dataset\n",
    "\n",
    "print(dataset.data.shape)\n",
    "print(dataset.target.shape)"
   ]
  },
  {
   "cell_type": "code",
   "execution_count": 16,
   "id": "e22236de",
   "metadata": {},
   "outputs": [
    {
     "name": "stdout",
     "output_type": "stream",
     "text": [
      "['mean radius' 'mean texture' 'mean perimeter' 'mean area'\n",
      " 'mean smoothness' 'mean compactness' 'mean concavity'\n",
      " 'mean concave points' 'mean symmetry' 'mean fractal dimension'\n",
      " 'radius error' 'texture error' 'perimeter error' 'area error'\n",
      " 'smoothness error' 'compactness error' 'concavity error'\n",
      " 'concave points error' 'symmetry error' 'fractal dimension error'\n",
      " 'worst radius' 'worst texture' 'worst perimeter' 'worst area'\n",
      " 'worst smoothness' 'worst compactness' 'worst concavity'\n",
      " 'worst concave points' 'worst symmetry' 'worst fractal dimension']\n"
     ]
    }
   ],
   "source": [
    "print(dataset.feature_names)"
   ]
  },
  {
   "cell_type": "code",
   "execution_count": 17,
   "id": "44cc07cf",
   "metadata": {},
   "outputs": [
    {
     "name": "stdout",
     "output_type": "stream",
     "text": [
      "['malignant' 'benign']\n"
     ]
    }
   ],
   "source": [
    "print(dataset.target_names)"
   ]
  },
  {
   "cell_type": "code",
   "execution_count": 18,
   "id": "6ce96648",
   "metadata": {},
   "outputs": [
    {
     "data": {
      "image/png": "[encoded data removed]",
      "text/plain": [
       "<Figure size 432x288 with 1 Axes>"
      ]
     },
     "metadata": {
      "needs_background": "light"
     },
     "output_type": "display_data"
    }
   ],
   "source": [
    "plt.scatter(dataset.data[:, 0], dataset.target)\n",
    "plt.xlabel('Features')\n",
    "plt.ylabel('Type of cancer') # 1-malignant # 0-benign\n",
    "plt.show()"
   ]
  },
  {
   "cell_type": "code",
   "execution_count": 19,
   "id": "f5106a7a",
   "metadata": {},
   "outputs": [
    {
     "name": "stdout",
     "output_type": "stream",
     "text": [
      "[4 4 8 7 8 3 8 3 3 3 9 2 2 9 3 9 9 2 1 3 7 0 9 1 4 2 9 2 2 2 8 3 2 4 2 2 3\n",
      " 7 3 3 3 7 8 3 3 8 0 3 7 3 7 3 7 2 9 7 4 9 7 0 0 0 9 0 3 9 0 7 0 7 4 0 8 3\n",
      " 7 2 7 8 8 7 7 7 1 2 7 8 3 8 7 3 3 3 3 3 9 8 7 0 7 3 3 0 7 0 0 3 7 7 1 7 0\n",
      " 7 3 0 0 7 0 9 2 2 7 8 1 3 7 3 3 8 3 8 7 9 2 9 8 7 7 7 9 0 0 2 7 7 0 7 7 3\n",
      " 3 3 7 0 0 0 3 7 2 9 7 7 7 8 4 7 1 3 0 2 8 3 7 9 9 0 0 0 0 9 7 7 5 4 2 7 9\n",
      " 0 2 7 7 7 3 7 0 3 3 7 3 2 8 9 7 2 1 9 7 9 0 2 7 9 8 7 1 9 3 3 7 0 4 1 3 3\n",
      " 0 9 3 3 0 3 7 3 2 7 7 4 0 3 5 4 3 2 3 7 7 3 8 0 7 7 0 7 4 7 4 2 4 3 4 9 2\n",
      " 9 4 2 2 9 2 5 0 3 7 0 3 7 1 0 2 7 7 2 3 3 8 7 8 9 7 7 7 7 0 7 3 3 7 7 7 3\n",
      " 0 7 3 0 4 7 8 0 7 7 7 0 3 3 7 3 7 7 0 7 7 8 0 7 0 8 7 4 7 7 3 7 9 9 9 7 0\n",
      " 7 7 2 7 4 0 5 3 0 0 8 7 0 7 9 7 7 7 9 5 9 7 7 7 3 0 0 7 7 7 9 3 4 8 7 5 1\n",
      " 2 3 8 4 3 9 0 3 3 7 7 0 7 7 7 3 7 3 7 2 0 0 2 4 7 3 3 7 7 7 2 7 7 7 7 7 9\n",
      " 7 2 7 7 7 0 9 9 7 0 8 7 7 7 3 7 3 0 0 0 7 0 7 3 7 8 8 3 3 7 3 3 3 7 2 3 0\n",
      " 2 7 2 3 3 4 7 8 7 3 7 3 7 7 7 0 8 6 3 7 3 3 3 0 2 7 0 7 9 7 0 7 3 3 7 9 7\n",
      " 3 3 3 9 7 3 8 7 9 7 2 2 7 3 3 7 7 8 4 3 3 7 5 0 0 7 0 9 9 7 3 3 3 9 7 8 8\n",
      " 7 7 0 1 0 3 0 0 3 7 3 7 7 7 3 8 0 4 3 7 0 0 7 3 3 7 3 3 0 0 0 7 0 0 7 0 7\n",
      " 0 0 0 3 7 3 0 9 4 4 8 9 4 0]\n",
      "[[9.87515385e+00 1.78310989e+01 6.31275824e+01 2.99732967e+02\n",
      "  9.64635165e-02 8.09469231e-02 4.46973846e-02 1.89206154e-02\n",
      "  1.83812088e-01 6.83807692e-02 2.95191209e-01 1.51460549e+00\n",
      "  2.02103187e+00 1.79611868e+01 9.95848352e-03 2.56543407e-02\n",
      "  3.31990110e-02 1.02651538e-02 2.54141758e-02 4.97217582e-03\n",
      "  1.08238352e+01 2.29446154e+01 6.97957143e+01 3.58796703e+02\n",
      "  1.31465934e-01 1.64161758e-01 1.40192637e-01 5.34132967e-02\n",
      "  2.73173626e-01 8.52007692e-02]\n",
      " [2.29416667e+01 2.28425000e+01 1.53766667e+02 1.64325000e+03\n",
      "  1.06365833e-01 1.85375000e-01 2.54941667e-01 1.36682500e-01\n",
      "  1.91700000e-01 6.08866667e-02 1.08900000e+00 1.37070000e+00\n",
      "  8.07141667e+00 1.64400000e+02 8.09275000e-03 4.28275000e-02\n",
      "  5.69375000e-02 1.67441667e-02 2.22750000e-02 4.46883333e-03\n",
      "  2.79850000e+01 2.98150000e+01 1.91725000e+02 2.38550000e+03\n",
      "  1.42541667e-01 4.10233333e-01 5.38925000e-01 2.28908333e-01\n",
      "  2.92508333e-01 8.46616667e-02]\n",
      " [1.72662222e+01 2.12826667e+01 1.13766667e+02 9.30031111e+02\n",
      "  9.96044444e-02 1.34278667e-01 1.40752222e-01 8.17808889e-02\n",
      "  1.90786667e-01 6.09995556e-02 5.76202222e-01 1.28895333e+00\n",
      "  4.13328889e+00 6.30108889e+01 6.40597778e-03 3.02990444e-02\n",
      "  3.75984444e-02 1.49950444e-02 2.00477778e-02 4.04933333e-03\n",
      "  2.05342222e+01 2.85542222e+01 1.36617778e+02 1.29620000e+03\n",
      "  1.38425333e-01 3.23276889e-01 3.89095556e-01 1.69770444e-01\n",
      "  3.12826667e-01 8.54171111e-02]\n",
      " [1.39387395e+01 1.90294958e+01 9.04831933e+01 6.00262185e+02\n",
      "  9.39314286e-02 1.00406387e-01 7.45220756e-02 4.14941345e-02\n",
      "  1.75155462e-01 6.16680672e-02 3.13209244e-01 1.08587899e+00\n",
      "  2.26420084e+00 2.71161345e+01 5.84906723e-03 2.42642689e-02\n",
      "  2.82606723e-02 1.11375714e-02 1.78284202e-02 3.49648571e-03\n",
      "  1.57033613e+01 2.55010924e+01 1.03702605e+02 7.57455462e+02\n",
      "  1.28325294e-01 2.62771765e-01 2.65218908e-01 1.12402101e-01\n",
      "  2.83356303e-01 8.43820168e-02]\n",
      " [2.00260714e+01 2.18803571e+01 1.32692857e+02 1.25002143e+03\n",
      "  1.02756071e-01 1.58847143e-01 1.93221786e-01 1.08006429e-01\n",
      "  1.92485714e-01 6.14375000e-02 7.36196429e-01 1.01731429e+00\n",
      "  5.13200000e+00 9.43903571e+01 6.00535714e-03 3.06346429e-02\n",
      "  4.16860714e-02 1.52570714e-02 1.72453571e-02 3.84432143e-03\n",
      "  2.52410714e+01 2.91735714e+01 1.68489286e+02 1.94928571e+03\n",
      "  1.44600000e-01 4.07971429e-01 5.11967857e-01 2.12364286e-01\n",
      "  3.20232143e-01 9.19071429e-02]\n",
      " [2.36000000e+01 2.26814286e+01 1.56228571e+02 1.76057143e+03\n",
      "  1.01177143e-01 1.50231429e-01 2.10114286e-01 1.30744286e-01\n",
      "  1.77900000e-01 5.70257143e-02 1.08112857e+00 1.09044286e+00\n",
      "  7.40971429e+00 1.72242857e+02 5.65600000e-03 2.50857143e-02\n",
      "  3.38128571e-02 1.43528571e-02 1.68714286e-02 2.75742857e-03\n",
      "  3.17085714e+01 3.13057143e+01 2.11928571e+02 3.09385714e+03\n",
      "  1.42300000e-01 3.52457143e-01 4.64671429e-01 2.26700000e-01\n",
      "  2.93257143e-01 7.90014286e-02]\n",
      " [2.74200000e+01 2.62700000e+01 1.86900000e+02 2.50100000e+03\n",
      "  1.08400000e-01 1.98800000e-01 3.63500000e-01 1.68900000e-01\n",
      "  2.06100000e-01 5.62300000e-02 2.54700000e+00 1.30600000e+00\n",
      "  1.86500000e+01 5.42200000e+02 7.65000000e-03 5.37400000e-02\n",
      "  8.05500000e-02 2.59800000e-02 1.69700000e-02 4.55800000e-03\n",
      "  3.60400000e+01 3.13700000e+01 2.51200000e+02 4.25400000e+03\n",
      "  1.35700000e-01 4.25600000e-01 6.83300000e-01 2.62500000e-01\n",
      "  2.64100000e-01 7.42700000e-02]\n",
      " [1.21398295e+01 1.81243750e+01 7.80391477e+01 4.53930682e+02\n",
      "  9.30579545e-02 7.96476705e-02 4.52235324e-02 2.59481023e-02\n",
      "  1.74372727e-01 6.23869886e-02 2.76667614e-01 1.19831080e+00\n",
      "  1.96479489e+00 2.04931250e+01 6.79651136e-03 2.03912898e-02\n",
      "  2.40284352e-02 9.64013636e-03 2.03964205e-02 3.30967330e-03\n",
      "  1.34010227e+01 2.41963068e+01 8.71398295e+01 5.49269318e+02\n",
      "  1.26916705e-01 1.92223466e-01 1.75752653e-01 7.78560852e-02\n",
      "  2.78232386e-01 7.95895455e-02]\n",
      " [1.91412500e+01 2.14325000e+01 1.26322500e+02 1.14027500e+03\n",
      "  1.00385250e-01 1.44530500e-01 1.70670250e-01 9.76695000e-02\n",
      "  1.94960000e-01 6.02197500e-02 7.11155000e-01 1.26410750e+00\n",
      "  4.91432500e+00 8.55975000e+01 6.85415000e-03 3.27335000e-02\n",
      "  4.45067500e-02 1.62432000e-02 2.29937500e-02 3.92512500e-03\n",
      "  2.30045000e+01 2.85045000e+01 1.53027500e+02 1.61350000e+03\n",
      "  1.38910000e-01 3.46300000e-01 4.40487500e-01 1.84557500e-01\n",
      "  3.20405000e-01 8.49905000e-02]\n",
      " [1.54638000e+01 2.02392000e+01 1.01397600e+02 7.40524000e+02\n",
      "  1.00539400e-01 1.25822000e-01 1.23348200e-01 6.54630000e-02\n",
      "  1.85918000e-01 6.26102000e-02 3.90868000e-01 1.03997400e+00\n",
      "  2.75976000e+00 3.72140000e+01 6.65860000e-03 2.82472800e-02\n",
      "  3.78898000e-02 1.35351000e-02 1.91477200e-02 3.67792000e-03\n",
      "  1.80026000e+01 2.75786000e+01 1.19620000e+02 9.92134000e+02\n",
      "  1.41392800e-01 3.39973200e-01 3.95144000e-01 1.54146800e-01\n",
      "  3.16380000e-01 9.00534000e-02]]\n"
     ]
    }
   ],
   "source": [
    "kmeans = KMeans(n_clusters=10, random_state=101)\n",
    "prediction = kmeans.fit_predict(dataset.data)\n",
    "print(prediction)\n",
    "\n",
    "kmeans.cluster_centers_.shape\n",
    "print(kmeans.cluster_centers_)"
   ]
  },
  {
   "cell_type": "code",
   "execution_count": 20,
   "id": "bb874d23",
   "metadata": {},
   "outputs": [
    {
     "data": {
      "image/png": "[encoded data removed]",
      "text/plain": [
       "<Figure size 432x288 with 1 Axes>"
      ]
     },
     "metadata": {
      "needs_background": "light"
     },
     "output_type": "display_data"
    }
   ],
   "source": [
    "plt.scatter(dataset.data[:, 0], dataset.target)\n",
    "plt.scatter(kmeans.cluster_centers_[:, 0], kmeans.cluster_centers_[:, 1],c='red', marker='x')\n",
    "plt.title('Data points and cluster centroids')\n",
    "plt.show()"
   ]
  },
  {
   "cell_type": "code",
   "execution_count": 21,
   "id": "0f03deb7",
   "metadata": {},
   "outputs": [],
   "source": [
    "import numpy as np\n",
    "from scipy.stats import mode\n",
    "labels = np.zeros_like(prediction)\n",
    "for i in range(10):\n",
    "  mask = (prediction == i)\n",
    "  labels[mask] = mode(dataset.target[mask])[0]"
   ]
  },
  {
   "cell_type": "code",
   "execution_count": 22,
   "id": "9cdca172",
   "metadata": {},
   "outputs": [
    {
     "data": {
      "text/plain": [
       "0.9068541300527241"
      ]
     },
     "execution_count": 22,
     "metadata": {},
     "output_type": "execute_result"
    }
   ],
   "source": [
    "from sklearn.metrics import accuracy_score\n",
    "accuracy_score(dataset.target, labels)"
   ]
  },
  {
   "cell_type": "code",
   "execution_count": 23,
   "id": "417cd901",
   "metadata": {},
   "outputs": [
    {
     "data": {
      "text/plain": [
       "Text(91.68, 0.5, 'predicted label')"
      ]
     },
     "execution_count": 23,
     "metadata": {},
     "output_type": "execute_result"
    },
    {
     "data": {
      "image/png": "[encoded data removed]",
      "text/plain": [
       "<Figure size 432x288 with 1 Axes>"
      ]
     },
     "metadata": {
      "needs_background": "light"
     },
     "output_type": "display_data"
    }
   ],
   "source": [
    "from sklearn.metrics import confusion_matrix\n",
    "import seaborn as sns\n",
    "mat = confusion_matrix(dataset.target, labels)\n",
    "ax = sns.heatmap(mat.T, square=True, annot=True, fmt='d', cbar=False,xticklabels=dataset.target_names,yticklabels=dataset.target_names)\n",
    "\n",
    "#ax.set_ylim(10,10)\n",
    "plt.xlabel('true label')\n",
    "plt.ylabel('predicted label')"
   ]
  },
  {
   "cell_type": "code",
   "execution_count": null,
   "id": "e82d0cc7",
   "metadata": {},
   "outputs": [],
   "source": []
  },
  {
   "cell_type": "code",
   "execution_count": null,
   "id": "3980487b",
   "metadata": {},
   "outputs": [],
   "source": []
  }
 ],
 "metadata": {
  "kernelspec": {
   "display_name": "Python 3 (ipykernel)",
   "language": "python",
   "name": "python3"
  },
  "language_info": {
   "codemirror_mode": {
    "name": "ipython",
    "version": 3
   },
   "file_extension": ".py",
   "mimetype": "text/x-python",
   "name": "python",
   "nbconvert_exporter": "python",
   "pygments_lexer": "ipython3",
   "version": "3.9.6"
  }
 },
 "nbformat": 4,
 "nbformat_minor": 5
}
