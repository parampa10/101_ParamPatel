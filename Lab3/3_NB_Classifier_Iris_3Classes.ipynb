{
 "cells": [
  {
   "cell_type": "markdown",
   "id": "78ac0d1d",
   "metadata": {},
   "source": [
    "Exercise:"
   ]
  },
  {
   "cell_type": "markdown",
   "id": "f44dd731",
   "metadata": {},
   "source": [
    "**5) 101<=Rollnumber<=125:**"
   ]
  },
  {
   "cell_type": "markdown",
   "id": "774c299c",
   "metadata": {},
   "source": [
    "#Task 1: Try the algo on Dataset3 - OneHotEncoding of features:and Train test Division 85%-15%"
   ]
  },
  {
   "cell_type": "code",
   "execution_count": null,
   "id": "d78c95db",
   "metadata": {},
   "outputs": [],
   "source": [
    "import pandas as pd\n",
    "import numpy as np\n",
    "import matplotlib.pyplot as plt\n",
    "from sklearn.preprocessing import OneHotEncoder\n",
    "from sklearn.naive_bayes import GaussianNB\n",
    "from sklearn.model_selection import train_test_split\n",
    "from sklearn.metrics import accuracy_score, confusion_matrix, precision_score, recall_score"
   ]
  },
  {
   "cell_type": "code",
   "execution_count": null,
   "id": "78eeae35",
   "metadata": {},
   "outputs": [],
   "source": [
    "dataset = pd.read_csv(r\"./PracticeDataSets/Dataset3.csv\")\n",
    "print(\"Number of examples and feature:\", dataset.shape)\n",
    "dataset"
   ]
  },
  {
   "cell_type": "code",
   "execution_count": null,
   "id": "dce8c47b",
   "metadata": {},
   "outputs": [],
   "source": [
    "start = \"\\033[1m\"\n",
    "end = \"\\033[0;0m\"\n",
    "\n",
    "print(start + \"Unique Outlook values: \" + end, dataset['Outlook'].unique())\n",
    "\n",
    "print(start + \"\\nUnique Temperature values: \" + end, dataset['Temp'].unique())\n",
    "\n",
    "print(start + \"\\nUnique Humidity values: \" + end, dataset['Humidity'].unique())\n",
    "\n",
    "print(start + \"\\nUnique Wind values: \" + end, dataset['Wind'].unique())\n",
    "\n",
    "print(start + \"\\nUnique Class values \" + \"\\033[91m (Class Label): \" + end, dataset['Class'].unique())"
   ]
  },
  {
   "cell_type": "code",
   "execution_count": null,
   "id": "fa1b3bf4",
   "metadata": {},
   "outputs": [],
   "source": [
    "pie_chart = dataset['Class'].value_counts().plot.pie(autopct = \"%1.1f%%\", radius = 2, startangle = 90)\n",
    "pie_chart.set_ylabel('')\n",
    "plt.show()"
   ]
  },
  {
   "cell_type": "code",
   "execution_count": null,
   "id": "57bc314a",
   "metadata": {},
   "outputs": [],
   "source": [
    "\n",
    "dummy = pd.get_dummies(dataset.iloc[:,:-1])\n",
    "\n",
    "cols = dataset.columns.tolist()\n",
    "cols.remove(\"Class\")\n",
    "\n",
    "dataset = dataset.drop(cols, axis = 1)\n",
    "dataset = pd.concat([dummy,dataset], axis = 1)"
   ]
  },
  {
   "cell_type": "code",
   "execution_count": null,
   "id": "795e367b",
   "metadata": {},
   "outputs": [],
   "source": [
    "print(\"\\n\\nFinal dataset :\\n\")\n",
    "dataset.head()"
   ]
  },
  {
   "cell_type": "code",
   "execution_count": null,
   "id": "8ca83d0d",
   "metadata": {},
   "outputs": [],
   "source": [
    "print(\"\\nLabel\\n\\n\")\n",
    "labels = dataset['Class']\n",
    "labels\n"
   ]
  },
  {
   "cell_type": "code",
   "execution_count": null,
   "id": "3519c713",
   "metadata": {},
   "outputs": [],
   "source": [
    "#split data set into train and test sets\n",
    "data_train, data_test, target_train, target_test = train_test_split(dataset.iloc[:,:-1],labels, test_size = 0.15, random_state = 101)\n",
    "# set Random state of model equals to your roll number\n",
    "#my roll number is 101"
   ]
  },
  {
   "cell_type": "code",
   "execution_count": null,
   "id": "311f0a62",
   "metadata": {},
   "outputs": [],
   "source": [
    "# creating intsance\n",
    "gnb = GaussianNB()\n",
    "\n",
    "# fitting the model or training\n",
    "gnb.fit(data_train,target_train)"
   ]
  },
  {
   "cell_type": "code",
   "execution_count": null,
   "id": "6ad72907",
   "metadata": {},
   "outputs": [],
   "source": [
    "# testing\n",
    "target_predict = gnb.predict(data_test)"
   ]
  },
  {
   "cell_type": "code",
   "execution_count": null,
   "id": "ff5c0f67",
   "metadata": {},
   "outputs": [],
   "source": [
    "# Accuracy\n",
    "Accuracy = accuracy_score(target_test, target_predict)\n",
    "print(\"Accuracy:\", Accuracy)"
   ]
  },
  {
   "cell_type": "code",
   "execution_count": null,
   "id": "536aae6e",
   "metadata": {},
   "outputs": [],
   "source": [
    "\n",
    "# Confusion Matrix\n",
    "cm = confusion_matrix(target_test, target_predict)\n",
    "print(\"Confusion Matrix:\\n\")\n",
    "cm"
   ]
  },
  {
   "cell_type": "code",
   "execution_count": null,
   "id": "8d263c78",
   "metadata": {},
   "outputs": [],
   "source": [
    "# Precision\n",
    "precision = precision_score(target_test, target_predict, average=None)\n",
    "print(\"Precision:\\n\")\n",
    "precision"
   ]
  },
  {
   "cell_type": "code",
   "execution_count": null,
   "id": "071fb69f",
   "metadata": {},
   "outputs": [],
   "source": [
    "# Recall\n",
    "recall = recall_score(target_test, target_predict, average=None)\n",
    "print(\"Recall:\\n\")\n",
    "recall"
   ]
  },
  {
   "cell_type": "markdown",
   "id": "d060215b",
   "metadata": {},
   "source": [
    "#Task 2: Apply algorithm on wine dataset - LabelEncoding of features: and Train test Division 66%-34%"
   ]
  },
  {
   "cell_type": "code",
   "execution_count": null,
   "id": "afe349b6",
   "metadata": {},
   "outputs": [],
   "source": [
    "import pandas as pd\n",
    "import numpy as np\n",
    "import matplotlib.pyplot as plt\n",
    "from sklearn.preprocessing import LabelEncoder # not used as data is already numerical\n",
    "from sklearn.naive_bayes import MultinomialNB\n",
    "from sklearn.model_selection import train_test_split\n",
    "from sklearn.metrics import accuracy_score, confusion_matrix\n",
    "from sklearn import datasets\n",
    "from sklearn import metrics"
   ]
  },
  {
   "cell_type": "code",
   "execution_count": null,
   "id": "c64683f4",
   "metadata": {},
   "outputs": [],
   "source": [
    "wine = datasets.load_wine()\n",
    "print(\"Number of examples and feature:\", wine.data.shape)\n",
    "dataset = pd.DataFrame(wine.data)"
   ]
  },
  {
   "cell_type": "code",
   "execution_count": null,
   "id": "48439b3b",
   "metadata": {},
   "outputs": [],
   "source": [
    "print(\"Features: \", wine.data)\n",
    "print(\"Labels: \", np.unique(wine.target))\n"
   ]
  },
  {
   "cell_type": "code",
   "execution_count": null,
   "id": "e95cd71d",
   "metadata": {},
   "outputs": [],
   "source": [
    "#split data set into train and test sets\n",
    "data_train, data_test, target_train, target_test = train_test_split(wine.data,\n",
    "                        wine.target, test_size = 0.34, random_state = 101) \n",
    "#106 roll number"
   ]
  },
  {
   "cell_type": "code",
   "execution_count": null,
   "id": "90c9d6d5",
   "metadata": {},
   "outputs": [],
   "source": [
    "#Create a Classifier\n",
    "model=MultinomialNB()\n",
    "# Train the model using the training sets\n",
    "model.fit(data_train,target_train)"
   ]
  },
  {
   "cell_type": "code",
   "execution_count": null,
   "id": "309a1389",
   "metadata": {},
   "outputs": [],
   "source": [
    "\n",
    "target_pred = model.predict(data_test)"
   ]
  },
  {
   "cell_type": "code",
   "execution_count": null,
   "id": "7271d63c",
   "metadata": {},
   "outputs": [],
   "source": [
    "print(\"Accuracy:\",accuracy_score(target_test, target_pred))"
   ]
  },
  {
   "cell_type": "code",
   "execution_count": null,
   "id": "a50c5dad",
   "metadata": {},
   "outputs": [],
   "source": [
    "confusion_matrix(target_test, target_pred)"
   ]
  },
  {
   "cell_type": "code",
   "execution_count": null,
   "id": "974a37e9",
   "metadata": {},
   "outputs": [],
   "source": [
    "disp = metrics.plot_confusion_matrix(model, data_test, target_test)\n",
    "disp.figure_.suptitle(\"Confusion Matrix\")\n",
    "print(f\"Confusion matrix:\\n{disp.confusion_matrix}\")\n",
    "plt.show()"
   ]
  },
  {
   "cell_type": "code",
   "execution_count": null,
   "id": "b232a881",
   "metadata": {},
   "outputs": [],
   "source": []
  }
 ],
 "metadata": {
  "kernelspec": {
   "display_name": "Python 3",
   "language": "python",
   "name": "python3"
  },
  "language_info": {
   "codemirror_mode": {
    "name": "ipython",
    "version": 3
   },
   "file_extension": ".py",
   "mimetype": "text/x-python",
   "name": "python",
   "nbconvert_exporter": "python",
   "pygments_lexer": "ipython3",
   "version": "3.9.5"
  }
 },
 "nbformat": 4,
 "nbformat_minor": 5
}
